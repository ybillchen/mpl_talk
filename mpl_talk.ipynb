{
 "cells": [
  {
   "cell_type": "markdown",
   "id": "bf6d7e8a-9d43-4562-9684-b4c7b0b0c1a5",
   "metadata": {},
   "source": [
    "# How `matplotlib` works?\n",
    "\n",
    "**Note:** The codes displayed here are *not* exactly the same as the source code. Just to help understanding. But you can easily find the source code in [https://github.com/matplotlib/matplotlib](https://github.com/matplotlib/matplotlib)."
   ]
  },
  {
   "cell_type": "markdown",
   "id": "89c94243-09c9-4fe0-b874-823637861b5d",
   "metadata": {},
   "source": [
    "## The example code"
   ]
  },
  {
   "cell_type": "code",
   "execution_count": 1,
   "id": "edc1b326-22cf-4640-8bca-91c2cffc72c5",
   "metadata": {},
   "outputs": [],
   "source": [
    "import matplotlib\n",
    "from matplotlib import pyplot"
   ]
  },
  {
   "cell_type": "code",
   "execution_count": 2,
   "id": "97af0210-cde4-42ed-8691-64d117ee1a79",
   "metadata": {},
   "outputs": [
    {
     "data": {
      "image/png": "[encoded data removed]",
      "text/plain": [
       "<Figure size 600x300 with 1 Axes>"
      ]
     },
     "metadata": {},
     "output_type": "display_data"
    }
   ],
   "source": [
    "fig = pyplot.figure(figsize=(4,2), dpi=150)\n",
    "ax = fig.add_subplot() # equivlent to fig, ax = pyplot.subplots()\n",
    "\n",
    "ax.plot([0,1,2],[0,1,0])\n",
    "\n",
    "pyplot.show()\n",
    "pyplot.close('all')"
   ]
  },
  {
   "cell_type": "markdown",
   "id": "a55c1ba6-c2d8-476d-bd34-e5da073c7cf8",
   "metadata": {},
   "source": [
    "## What happens after `pyplot.figure()`?\n",
    "\n",
    "### Module `matplotlib.pyplot`:\n",
    "\n",
    "```python\n",
    "def figure(...):\n",
    "    # ...\n",
    "    if manager is None:\n",
    "        # ...\n",
    "        manager = new_figure_manager(...)\n",
    "        # ...\n",
    "    return manager.canvas.figure\n",
    "\n",
    "# ...\n",
    "\n",
    "def new_figure_manager(...):\n",
    "    # ...\n",
    "    return _get_backend_mod().new_figure_manager(...)\n",
    "```\n",
    "\n",
    "What is a **backend**?"
   ]
  },
  {
   "cell_type": "code",
   "execution_count": 3,
   "id": "331b6cbc-1ed6-4685-b607-71bd6f6c0218",
   "metadata": {},
   "outputs": [
    {
     "name": "stdout",
     "output_type": "stream",
     "text": [
      "current backend: module://matplotlib_inline.backend_inline\n"
     ]
    }
   ],
   "source": [
    "print(\"current backend:\", matplotlib.get_backend())"
   ]
  },
  {
   "cell_type": "markdown",
   "id": "9701416a-5e10-41e0-acc4-eac2849cdc80",
   "metadata": {},
   "source": [
    "### Module `matplotlib.backend_bases`\n",
    "```python\n",
    "class _Backend:\n",
    "    # ...\n",
    "    @classmethod\n",
    "    def new_figure_manager(cls, ...):\n",
    "        # ...\n",
    "        fig = matplotlib.figure.Figure(...) # create figure\n",
    "        return cls.new_figure_manager_given_figure(fig, ...)\n",
    "    \n",
    "    @classmethod\n",
    "    def new_figure_manager_given_figure(cls, figure, ...):\n",
    "        # ...\n",
    "        return cls.FigureCanvas.new_manager(figure, ...)\n",
    "    \n",
    "# ...\n",
    "\n",
    "class FigureCanvasBase:\n",
    "    # ...\n",
    "    @classmethod\n",
    "    def new_manager(cls, figure, ...):\n",
    "        # ...\n",
    "        return FigureManagerBase.create_with_canvas(cls, figure, ...)\n",
    "    \n",
    "# ...\n",
    "\n",
    "class FigureManagerBase:\n",
    "    # ...\n",
    "    def create_with_canvas(cls, canvas_class, figure, ...):\n",
    "        # ...\n",
    "        return cls(canvas_class(figure), ...) # create canvas then manager\n",
    "```"
   ]
  },
  {
   "cell_type": "markdown",
   "id": "d9ae95ec-253b-46bc-bb08-67a77723d738",
   "metadata": {},
   "source": [
    "![alt text](chart/Slide1.png \"Title\")"
   ]
  },
  {
   "cell_type": "markdown",
   "id": "bc7fd7f6-4f38-4d4c-9618-986d8773ec9f",
   "metadata": {},
   "source": [
    "## What happens after `fig.add_subplots()`? (Finally the 2nd line!)\n",
    "\n",
    "### Module `matplotlib.figure`\n",
    "\n",
    "```python\n",
    "class FigureBase(Artist):\n",
    "    # ...\n",
    "    def add_subplot(self, ...):\n",
    "        # ...\n",
    "        ax = subplot_class_factory(projection_class)(self, ...)\n",
    "        # ...\n",
    "```\n",
    "By default, `projection_class = matplotlib.Axes`, but also can be `\"polar\"`, `\"Axes3D\"`, etc., specified by `subplot_kw={\"projection\": \"polar\"}` or `projection=\"3d\"`.\n",
    "\n",
    "\n",
    "In this case, the code above is equivalent to \n",
    "\n",
    "```python\n",
    "class FigureBase(Artist):\n",
    "    # ...\n",
    "    def add_subplot(self, ...):\n",
    "        # ...\n",
    "        ax = matplotlib.Axes(self, ...)\n",
    "        # ...\n",
    "```"
   ]
  },
  {
   "cell_type": "markdown",
   "id": "306a151d-2bab-4ca3-bf4b-45f97f1870be",
   "metadata": {},
   "source": [
    "![alt text](chart/Slide2.png \"Title\")"
   ]
  },
  {
   "cell_type": "markdown",
   "id": "28f99824-5a4f-486d-8809-dc0c54f27fe2",
   "metadata": {},
   "source": [
    "## What happens after `ax.plot()`?\n",
    "\n",
    "### Module `matplotlib.axes`\n",
    "\n",
    "```python\n",
    "class Axes(_AxesBase):\n",
    "    # ...\n",
    "    def plot(self, ...):\n",
    "        # ...\n",
    "        lines = [*self._get_lines(...)]\n",
    "        for line in lines:\n",
    "            self.add_line(line)\n",
    "        # ...\n",
    "        return lines\n",
    "    \n",
    "    def add_line(self, line):\n",
    "        # ...\n",
    "        self._children.append(line)\n",
    "        # ...\n",
    "```"
   ]
  },
  {
   "cell_type": "markdown",
   "id": "925bb1fd-812c-4515-8de0-38b33f15e586",
   "metadata": {},
   "source": [
    "![alt text](chart/Slide3.png \"Title\")"
   ]
  },
  {
   "cell_type": "markdown",
   "id": "1acfb26c-ad11-48a2-a74e-53d703475f5d",
   "metadata": {},
   "source": [
    "## What happens after `pyplot.show()`?\n",
    "\n",
    "### Module `matplotlib.pyplot`\n",
    "```python\n",
    "def show(...):\n",
    "    # ...\n",
    "    return _get_backend_mod().show(...)\n",
    "```\n",
    "\n",
    "This really depends on the backend. For our case, the current backend is"
   ]
  },
  {
   "cell_type": "markdown",
   "id": "cac56715-dd63-4a23-8f04-3b0d7bf39ee1",
   "metadata": {},
   "source": [
    "### Module `matplotlib-inline.backend_inline`\n",
    "```python\n",
    "def show(...):\n",
    "    # ...\n",
    "    for figure_manager in Gcf.get_all_fig_managers():\n",
    "        IPython.display(figure_manager.canvas.figure, ...)\n",
    "    # ...\n",
    "```"
   ]
  },
  {
   "cell_type": "markdown",
   "id": "15876cb5-b89a-47a7-9c21-1893d31b84a4",
   "metadata": {},
   "source": [
    "![alt text](chart/Slide4.png \"Title\")"
   ]
  },
  {
   "cell_type": "code",
   "execution_count": null,
   "id": "a48ffc1e-c1e9-403d-b604-1eda1c5f85b4",
   "metadata": {},
   "outputs": [],
   "source": []
  },
  {
   "cell_type": "markdown",
   "id": "b48b3698-8799-464a-9d79-cb2b75f5a591",
   "metadata": {},
   "source": [
    "It's too complicated when dealing with GUI. Let's consider a non-GUI case.\n",
    "\n",
    "## What happens after `fig.savefig()`?\n",
    "\n",
    "### Module `matplotlib.Figure`\n",
    "```python\n",
    "class Figure(FigureBase):\n",
    "    # ...\n",
    "    def savefig(self, fname, ...):\n",
    "        # ...\n",
    "        self.canvas.print_figure(fname, ...)\n",
    "```\n",
    "\n",
    "### Module `matplotlib.backend_bases`\n",
    "```python\n",
    "class FigureCanvasBase:\n",
    "    # ...\n",
    "    def print_figure(self, filename, format, backend, ...):\n",
    "        # ...\n",
    "        print_method = self._switch_canvas_and_return_print_method(format, backend)\n",
    "        result = print_method(filename, ...)\n",
    "        # ...\n",
    "        return result\n",
    "```"
   ]
  },
  {
   "cell_type": "markdown",
   "id": "4a1fcf37-85bd-4e2e-87da-10c32f9e8124",
   "metadata": {},
   "source": [
    "## Example: format = \"png\"\n",
    "\n",
    "In this case, `_switch_canvas_and_return_print_method()` returns a function object: `FigureCanvasAgg.print_png`\n",
    "\n",
    "### Module `matplotlib.backends.backend_agg`\n",
    "```python\n",
    "class FigureCanvasAgg(FigureCanvasBase):\n",
    "    # ...\n",
    "    def print_png(self, filename_or_obj, ...):\n",
    "        # ...\n",
    "        self._print_pil(filename_or_obj, \"png\", ...)\n",
    "        \n",
    "    def _print_pil(self, filename_or_obj, fmt, ...):\n",
    "        # ...\n",
    "        FigureCanvasAgg.draw(self)\n",
    "        matplotlib.image.imsave(filename_or_obj, format=fmt, ...)\n",
    "        \n",
    "    def draw(self):\n",
    "        # ...\n",
    "        self.figure.draw(self.get_renderer())\n",
    "        # ...\n",
    "```"
   ]
  },
  {
   "cell_type": "markdown",
   "id": "f44f1155-332a-4de7-b2b7-3a2b3fb321b8",
   "metadata": {},
   "source": [
    "\n",
    "### Module `matplotlib.Figure`\n",
    "```python\n",
    "class Figure(FigureBase):\n",
    "    # ...\n",
    "    def draw(self, renderer):\n",
    "        # ...\n",
    "        artists = self._get_draw_artists(renderer)\n",
    "        # ...\n",
    "        for a in artists:\n",
    "            a.draw(renderer)\n",
    "        # ...\n",
    "        \n",
    "# ...\n",
    "\n",
    "class FigureBase(Artist):\n",
    "    def _get_draw_artists(self, renderer):\n",
    "        # ...\n",
    "        artists = self.get_children()\n",
    "        # ...\n",
    "        return artists\n",
    "```"
   ]
  },
  {
   "cell_type": "markdown",
   "id": "34b08cac-94aa-4fcb-ba77-9f087e0422bf",
   "metadata": {},
   "source": [
    "## Example: draw a line\n",
    "\n",
    "### Module `matplotlib.lines`\n",
    "```python\n",
    "class Line2D(Artist):\n",
    "    # ...\n",
    "    def draw(self, renderer):\n",
    "        # ...\n",
    "        tpath, affine = (self._get_transformed_path()\n",
    "                         .get_transformed_path_and_affine())\n",
    "        # ...\n",
    "        renderer.draw_path(..., tpath, affine.frozen())\n",
    "        # ...\n",
    "```\n",
    "\n",
    "What is a **path**?\n",
    "\n",
    "What is a **renderer**?"
   ]
  },
  {
   "cell_type": "code",
   "execution_count": 4,
   "id": "941ff49d-6112-4b6c-91bc-6f578eb80cb0",
   "metadata": {},
   "outputs": [
    {
     "name": "stdout",
     "output_type": "stream",
     "text": [
      "Path(array([[0., 0.],\n",
      "       [1., 1.],\n",
      "       [2., 0.]]), None)\n",
      "Affine2D(\n",
      "    [[211.36363636   0.          96.13636364]\n",
      "     [  0.         210.          43.5       ]\n",
      "     [  0.           0.           1.        ]])\n"
     ]
    }
   ],
   "source": [
    "line = ax._children[0]\n",
    "tpath, affine = (line._get_transformed_path()\n",
    "                 .get_transformed_path_and_affine())\n",
    "\n",
    "print(tpath)\n",
    "print(affine)"
   ]
  },
  {
   "cell_type": "code",
   "execution_count": 5,
   "id": "86859723-3942-472d-9202-c27c81455332",
   "metadata": {},
   "outputs": [
    {
     "name": "stdout",
     "output_type": "stream",
     "text": [
      "[[ 96.13636364  43.5       ]\n",
      " [307.5        253.5       ]\n",
      " [518.86363636  43.5       ]]\n"
     ]
    }
   ],
   "source": [
    "print(affine.transform(tpath.vertices))"
   ]
  },
  {
   "cell_type": "code",
   "execution_count": 6,
   "id": "df0498bb-dea2-4406-b578-5c3781b8ffcc",
   "metadata": {},
   "outputs": [
    {
     "name": "stdout",
     "output_type": "stream",
     "text": [
      "Figure(600x300)\n"
     ]
    }
   ],
   "source": [
    "print(fig)"
   ]
  },
  {
   "cell_type": "code",
   "execution_count": 7,
   "id": "906bfc91-4406-4d81-a239-b62c29e1bc04",
   "metadata": {},
   "outputs": [
    {
     "name": "stdout",
     "output_type": "stream",
     "text": [
      "<matplotlib.backends.backend_agg.RendererAgg object at 0x7fe206701700>\n"
     ]
    }
   ],
   "source": [
    "print(fig.canvas.get_renderer())"
   ]
  },
  {
   "cell_type": "markdown",
   "id": "c61a490a-3009-42ab-b8ab-8e918c7df07c",
   "metadata": {},
   "source": [
    "\n",
    "### Module `matplotlib._backend_agg`\n",
    "\n",
    "The C++ AGG library is developed by Maxim Shemanarev: [https://github.com/ghaerr/agg-2.6](https://github.com/ghaerr/agg-2.6)\n",
    "\n",
    "```c++\n",
    "class RendererAgg\n",
    "{\n",
    "  public:\n",
    "    // ...\n",
    "    // Not exactly the same, just to help understand the source code.\n",
    "    agg::rasterizer_scanline_aa<agg::rasterizer_sl_clip_dbl> theRasterizer\n",
    "    // ...\n",
    "  protected:\n",
    "    // ...\n",
    "    template <class PathIteratorType>\n",
    "    void _draw_path(PathIteratorType &path, ...);\n",
    "    // ...\n",
    "}\n",
    "\n",
    "// ...\n",
    "\n",
    "template <class path_t>\n",
    "inline void\n",
    "RendererAgg::_draw_path(path_t &path, ...)\n",
    "{\n",
    "    // ...\n",
    "    agg::conv_stroke<path_t> stroke(path);\n",
    "    // ...\n",
    "    theRasterizer.add_path(stroke); \n",
    "    // ... \n",
    "    agg::render_scanlines(theRasterizer, ...);\n",
    "    // ...\n",
    "}\n",
    "```"
   ]
  },
  {
   "cell_type": "markdown",
   "id": "0c4c56a5-c2f8-4ce6-ac10-bc7324d80ff0",
   "metadata": {},
   "source": [
    "## A ready-to-use backend only needs 3 functions!\n",
    "\n",
    "* `draw_path()` to render `Path` objects\n",
    "* `draw_text()` to render `Text` objects\n",
    "* `draw_image()` to render `Image` objects"
   ]
  },
  {
   "cell_type": "markdown",
   "id": "b23af23e-dd0f-4ad6-8659-012ebe1c7627",
   "metadata": {},
   "source": [
    "![alt text](chart/Slide5.png \"Title\")"
   ]
  }
 ],
 "metadata": {
  "kernelspec": {
   "display_name": "Python 3 (ipykernel)",
   "language": "python",
   "name": "python3"
  },
  "language_info": {
   "codemirror_mode": {
    "name": "ipython",
    "version": 3
   },
   "file_extension": ".py",
   "mimetype": "text/x-python",
   "name": "python",
   "nbconvert_exporter": "python",
   "pygments_lexer": "ipython3",
   "version": "3.8.3"
  }
 },
 "nbformat": 4,
 "nbformat_minor": 5
}
